{
 "cells": [
  {
   "cell_type": "code",
   "execution_count": 1,
   "metadata": {},
   "outputs": [
    {
     "name": "stdout",
     "output_type": "stream",
     "text": [
      "Requirement already satisfied: fhirpathpy in /Users/pjamieso/.pyenv/versions/3.12.7/lib/python3.12/site-packages (1.2.1)\n",
      "Requirement already satisfied: antlr4-python3-runtime~=4.10 in /Users/pjamieso/.pyenv/versions/3.12.7/lib/python3.12/site-packages (from fhirpathpy) (4.13.2)\n",
      "Requirement already satisfied: python-dateutil~=2.8 in /Users/pjamieso/.pyenv/versions/3.12.7/lib/python3.12/site-packages (from fhirpathpy) (2.9.0.post0)\n",
      "Requirement already satisfied: six>=1.5 in /Users/pjamieso/.pyenv/versions/3.12.7/lib/python3.12/site-packages (from python-dateutil~=2.8->fhirpathpy) (1.17.0)\n",
      "\n",
      "\u001b[1m[\u001b[0m\u001b[34;49mnotice\u001b[0m\u001b[1;39;49m]\u001b[0m\u001b[39;49m A new release of pip is available: \u001b[0m\u001b[31;49m24.2\u001b[0m\u001b[39;49m -> \u001b[0m\u001b[32;49m25.0.1\u001b[0m\n",
      "\u001b[1m[\u001b[0m\u001b[34;49mnotice\u001b[0m\u001b[1;39;49m]\u001b[0m\u001b[39;49m To update, run: \u001b[0m\u001b[32;49mpip install --upgrade pip\u001b[0m\n",
      "Requirement already satisfied: requests in /Users/pjamieso/.pyenv/versions/3.12.7/lib/python3.12/site-packages (2.32.3)\n",
      "Requirement already satisfied: charset-normalizer<4,>=2 in /Users/pjamieso/.pyenv/versions/3.12.7/lib/python3.12/site-packages (from requests) (3.4.1)\n",
      "Requirement already satisfied: idna<4,>=2.5 in /Users/pjamieso/.pyenv/versions/3.12.7/lib/python3.12/site-packages (from requests) (3.10)\n",
      "Requirement already satisfied: urllib3<3,>=1.21.1 in /Users/pjamieso/.pyenv/versions/3.12.7/lib/python3.12/site-packages (from requests) (2.3.0)\n",
      "Requirement already satisfied: certifi>=2017.4.17 in /Users/pjamieso/.pyenv/versions/3.12.7/lib/python3.12/site-packages (from requests) (2025.1.31)\n",
      "\n",
      "\u001b[1m[\u001b[0m\u001b[34;49mnotice\u001b[0m\u001b[1;39;49m]\u001b[0m\u001b[39;49m A new release of pip is available: \u001b[0m\u001b[31;49m24.2\u001b[0m\u001b[39;49m -> \u001b[0m\u001b[32;49m25.0.1\u001b[0m\n",
      "\u001b[1m[\u001b[0m\u001b[34;49mnotice\u001b[0m\u001b[1;39;49m]\u001b[0m\u001b[39;49m To update, run: \u001b[0m\u001b[32;49mpip install --upgrade pip\u001b[0m\n"
     ]
    }
   ],
   "source": [
    "!pip install fhirpathpy\n",
    "!pip install requests"
   ]
  },
  {
   "cell_type": "code",
   "execution_count": 2,
   "metadata": {},
   "outputs": [],
   "source": [
    "from fhirpathpy import evaluate"
   ]
  },
  {
   "cell_type": "code",
   "execution_count": 3,
   "metadata": {},
   "outputs": [],
   "source": [
    "patient = {\n",
    "  \"resourceType\": \"Patient\",\n",
    "  \"id\": \"example\",\n",
    "  \"name\": [\n",
    "    {\n",
    "      \"use\": \"official\",\n",
    "      \"given\": [\n",
    "        \"Peter\",\n",
    "        \"James\"\n",
    "      ],\n",
    "      \"family\": \"Chalmers\"\n",
    "    },\n",
    "    {\n",
    "      \"use\": \"usual\",\n",
    "      \"given\": [\n",
    "        \"Jim\"\n",
    "      ]\n",
    "    },\n",
    "    {\n",
    "      \"use\": \"maiden\",\n",
    "      \"given\": [\n",
    "        \"Peter\",\n",
    "        \"James\"\n",
    "      ],\n",
    "      \"family\": \"Windsor\",\n",
    "      \"period\": {\n",
    "        \"end\": \"2002\"\n",
    "      }\n",
    "    }\n",
    "  ]\n",
    "}"
   ]
  },
  {
   "cell_type": "markdown",
   "metadata": {},
   "source": [
    "Determine if we are dealing with a Patient"
   ]
  },
  {
   "cell_type": "code",
   "execution_count": 4,
   "metadata": {},
   "outputs": [
    {
     "name": "stdout",
     "output_type": "stream",
     "text": [
      "[True]\n"
     ]
    }
   ],
   "source": [
    "result = evaluate(patient, \"resourceType = 'Patient'\", [])\n",
    "print(result)\n"
   ]
  },
  {
   "cell_type": "code",
   "execution_count": 5,
   "metadata": {},
   "outputs": [
    {
     "name": "stdout",
     "output_type": "stream",
     "text": [
      "[False]\n"
     ]
    }
   ],
   "source": [
    "result = evaluate(patient, \"Patient.name.given.empty()\", [])\n",
    "print(result)"
   ]
  },
  {
   "cell_type": "code",
   "execution_count": 6,
   "metadata": {},
   "outputs": [
    {
     "name": "stdout",
     "output_type": "stream",
     "text": [
      "['Peter', 'James', 'Chalmers']\n"
     ]
    }
   ],
   "source": [
    "result = evaluate(patient, \"name.where(use='official').given | name.where(use='official').family\", [])\n",
    "print(result)"
   ]
  },
  {
   "cell_type": "code",
   "execution_count": 7,
   "metadata": {},
   "outputs": [
    {
     "name": "stdout",
     "output_type": "stream",
     "text": [
      "[3]\n"
     ]
    }
   ],
   "source": [
    "result = evaluate(patient, \"(name.where(use='official').given | name.where(use='official').family).count()\", [])\n",
    "print(result)"
   ]
  },
  {
   "cell_type": "code",
   "execution_count": 16,
   "metadata": {},
   "outputs": [
    {
     "name": "stdout",
     "output_type": "stream",
     "text": [
      "[{'use': 'official', 'given': ['Peter', 'James'], 'family': 'Chalmers'}]\n"
     ]
    }
   ],
   "source": [
    "result = evaluate(patient, \"name.where(use='official').union(name.where(use='maiden'))\", [])\n",
    "print(result)"
   ]
  },
  {
   "cell_type": "code",
   "execution_count": 17,
   "metadata": {},
   "outputs": [
    {
     "name": "stdout",
     "output_type": "stream",
     "text": [
      "[True]\n"
     ]
    }
   ],
   "source": [
    "result = evaluate(patient, \"(name.where(use='maiden').exists()\", [])\n",
    "print(result)"
   ]
  },
  {
   "cell_type": "code",
   "execution_count": 18,
   "metadata": {},
   "outputs": [
    {
     "name": "stdout",
     "output_type": "stream",
     "text": [
      "['Peter', 'Peter']\n"
     ]
    }
   ],
   "source": [
    "result = evaluate(patient, \"(name.given.where($this > 'Pa')\", [])\n",
    "print(result)"
   ]
  },
  {
   "cell_type": "code",
   "execution_count": 21,
   "metadata": {},
   "outputs": [],
   "source": [
    "# Evaluating FHIRPath\n",
    "result = evaluate(patient, \"Patient.name.where(use='official').given.first()\", [])"
   ]
  },
  {
   "cell_type": "code",
   "execution_count": 22,
   "metadata": {},
   "outputs": [
    {
     "name": "stdout",
     "output_type": "stream",
     "text": [
      "['Peter']\n"
     ]
    }
   ],
   "source": [
    "print(result)"
   ]
  },
  {
   "cell_type": "code",
   "execution_count": 23,
   "metadata": {},
   "outputs": [
    {
     "name": "stdout",
     "output_type": "stream",
     "text": [
      "['Chalmers']\n"
     ]
    }
   ],
   "source": [
    "result = evaluate(patient, \"Patient.name.where(use = 'official').family\", [])\n",
    "print(result)"
   ]
  },
  {
   "cell_type": "code",
   "execution_count": 24,
   "metadata": {},
   "outputs": [
    {
     "name": "stdout",
     "output_type": "stream",
     "text": [
      "['Peter', 'James', 'Jim', 'Peter', 'James']\n"
     ]
    }
   ],
   "source": [
    "result = evaluate(patient, \"Patient.name.given\", []) \n",
    "print(result)"
   ]
  },
  {
   "cell_type": "code",
   "execution_count": 25,
   "metadata": {},
   "outputs": [
    {
     "name": "stdout",
     "output_type": "stream",
     "text": [
      "['Peter', 'James', 'Jim', 'Peter', 'James']\n"
     ]
    }
   ],
   "source": [
    "result = evaluate(patient, \"name.given\", []) \n",
    "print(result)"
   ]
  },
  {
   "cell_type": "markdown",
   "metadata": {},
   "source": [
    "Check for the Existence of a Birth Date"
   ]
  },
  {
   "cell_type": "code",
   "execution_count": 26,
   "metadata": {},
   "outputs": [
    {
     "name": "stdout",
     "output_type": "stream",
     "text": [
      "[False]\n"
     ]
    }
   ],
   "source": [
    "result = evaluate(patient, \"Patient.birthDate.exists()\", []) \n",
    "print(result)"
   ]
  },
  {
   "cell_type": "code",
   "execution_count": 28,
   "metadata": {},
   "outputs": [
    {
     "name": "stdout",
     "output_type": "stream",
     "text": [
      "[True]\n"
     ]
    }
   ],
   "source": [
    "result = evaluate(patient, \"Patient.name.period.exists())\", []) \n",
    "print(result)"
   ]
  },
  {
   "cell_type": "code",
   "execution_count": 33,
   "metadata": {},
   "outputs": [
    {
     "name": "stdout",
     "output_type": "stream",
     "text": [
      "['James']\n"
     ]
    }
   ],
   "source": [
    "result = evaluate(patient, \"Patient.name.where(use = 'maiden').given.last()\", [])\n",
    "print(result)"
   ]
  },
  {
   "cell_type": "code",
   "execution_count": 41,
   "metadata": {},
   "outputs": [
    {
     "name": "stdout",
     "output_type": "stream",
     "text": [
      "['Peter James Chalmers']\n"
     ]
    }
   ],
   "source": [
    "result = evaluate(patient, \"Patient.name.where(use = 'official').first().given.join(' ') + ' ' + Patient.name.where(use = 'official').first().family\", []) \n",
    "print(result)"
   ]
  },
  {
   "cell_type": "code",
   "execution_count": 42,
   "metadata": {},
   "outputs": [
    {
     "name": "stdout",
     "output_type": "stream",
     "text": [
      "['Peter', 'James', 'Jim']\n"
     ]
    }
   ],
   "source": [
    "result = evaluate(patient, \"Patient.name.given.distinct()\", []) \n",
    "print(result)"
   ]
  },
  {
   "cell_type": "code",
   "execution_count": 44,
   "metadata": {},
   "outputs": [
    {
     "name": "stdout",
     "output_type": "stream",
     "text": [
      "['James']\n"
     ]
    }
   ],
   "source": [
    "result = evaluate(patient, \"Patient.name.where(use = 'official').first().given.last()\", [])\n",
    "print(result)"
   ]
  },
  {
   "cell_type": "code",
   "execution_count": 47,
   "metadata": {},
   "outputs": [],
   "source": [
    "obs = {\n",
    "  \"resourceType\": \"Observation\",\n",
    "  \"id\": \"example\",\n",
    "  \"status\": \"final\",\n",
    "  \"category\": [\n",
    "    {\n",
    "      \"coding\": [\n",
    "        {\n",
    "          \"system\": \"http://terminology.hl7.org/CodeSystem/observation-category\",\n",
    "          \"code\": \"vital-signs\",\n",
    "          \"display\": \"Vital Signs\"\n",
    "        }\n",
    "      ]\n",
    "    }\n",
    "  ],\n",
    "  \"code\": {\n",
    "    \"coding\": [\n",
    "      {\n",
    "        \"system\": \"http://loinc.org\",\n",
    "        \"code\": \"85354-9\",\n",
    "        \"display\": \"Blood pressure panel with all children optional\"\n",
    "      }\n",
    "    ],\n",
    "    \"text\": \"Blood pressure systolic & diastolic\"\n",
    "  },\n",
    "  \"subject\": {\n",
    "    \"reference\": \"Patient/example\",\n",
    "    \"display\": \"Peter Chalmers\"\n",
    "  },\n",
    "  \"effectiveDateTime\": \"2020-03-15T09:30:10+01:00\",\n",
    "  \"issued\": \"2020-03-15T09:45:10+01:00\",\n",
    "  \"component\": [\n",
    "    {\n",
    "      \"code\": {\n",
    "        \"coding\": [\n",
    "          {\n",
    "            \"system\": \"http://loinc.org\",\n",
    "            \"code\": \"8480-6\",\n",
    "            \"display\": \"Systolic blood pressure\"\n",
    "          }\n",
    "        ]\n",
    "      },\n",
    "      \"valueQuantity\": {\n",
    "        \"value\": 120,\n",
    "        \"unit\": \"mmHg\",\n",
    "        \"system\": \"http://unitsofmeasure.org\",\n",
    "        \"code\": \"mm[Hg]\"\n",
    "      }\n",
    "    },\n",
    "    {\n",
    "      \"code\": {\n",
    "        \"coding\": [\n",
    "          {\n",
    "            \"system\": \"http://loinc.org\",\n",
    "            \"code\": \"8462-4\",\n",
    "            \"display\": \"Diastolic blood pressure\"\n",
    "          }\n",
    "        ]\n",
    "      },\n",
    "      \"valueQuantity\": {\n",
    "        \"value\": 80,\n",
    "        \"unit\": \"mmHg\",\n",
    "        \"system\": \"http://unitsofmeasure.org\",\n",
    "        \"code\": \"mm[Hg]\"\n",
    "      }\n",
    "    }\n",
    "  ]\n",
    "}\n"
   ]
  },
  {
   "cell_type": "code",
   "execution_count": 48,
   "metadata": {},
   "outputs": [
    {
     "name": "stdout",
     "output_type": "stream",
     "text": [
      "[120, 80]\n"
     ]
    }
   ],
   "source": [
    "result = evaluate(obs, \"component.valueQuantity.value\", [])\n",
    "print(result)"
   ]
  },
  {
   "cell_type": "code",
   "execution_count": 49,
   "metadata": {},
   "outputs": [
    {
     "name": "stdout",
     "output_type": "stream",
     "text": [
      "['final']\n"
     ]
    }
   ],
   "source": [
    "result = evaluate(obs, \"Observation.status\", [])\n",
    "print(result)"
   ]
  },
  {
   "cell_type": "code",
   "execution_count": 50,
   "metadata": {},
   "outputs": [
    {
     "name": "stdout",
     "output_type": "stream",
     "text": [
      "['2020-03-15T09:30:10+01:00']\n"
     ]
    }
   ],
   "source": [
    "result = evaluate(obs, \"Observation.effectiveDateTime\", [])\n",
    "print(result)"
   ]
  },
  {
   "cell_type": "code",
   "execution_count": 51,
   "metadata": {},
   "outputs": [
    {
     "name": "stdout",
     "output_type": "stream",
     "text": [
      "['Blood pressure systolic & diastolic']\n"
     ]
    }
   ],
   "source": [
    "result = evaluate(obs, \"Observation.code.text\", [])\n",
    "print(result)"
   ]
  },
  {
   "cell_type": "code",
   "execution_count": 52,
   "metadata": {},
   "outputs": [
    {
     "name": "stdout",
     "output_type": "stream",
     "text": [
      "[120]\n"
     ]
    }
   ],
   "source": [
    "result = evaluate(obs, \"Observation.component.where(code.coding.code = '8480-6').valueQuantity.value\", [])\n",
    "print(result)"
   ]
  },
  {
   "cell_type": "code",
   "execution_count": 53,
   "metadata": {},
   "outputs": [
    {
     "name": "stdout",
     "output_type": "stream",
     "text": [
      "['Systolic blood pressure']\n"
     ]
    }
   ],
   "source": [
    "result = evaluate(obs, \"Observation.component.where(code.coding.code = '8480-6').code.coding.display\", [])\n",
    "print(result)"
   ]
  },
  {
   "cell_type": "code",
   "execution_count": 54,
   "metadata": {},
   "outputs": [
    {
     "name": "stdout",
     "output_type": "stream",
     "text": [
      "['Peter Chalmers']\n"
     ]
    }
   ],
   "source": [
    "result = evaluate(obs, \"Observation.subject.display\", [])\n",
    "print(result)"
   ]
  },
  {
   "cell_type": "code",
   "execution_count": 55,
   "metadata": {},
   "outputs": [
    {
     "name": "stdout",
     "output_type": "stream",
     "text": [
      "['2020-03-15T09:45:10+01:00']\n"
     ]
    }
   ],
   "source": [
    "result = evaluate(obs, \"Observation.issued\", [])\n",
    "print(result)"
   ]
  },
  {
   "cell_type": "code",
   "execution_count": 56,
   "metadata": {},
   "outputs": [
    {
     "name": "stdout",
     "output_type": "stream",
     "text": [
      "['vital-signs']\n"
     ]
    }
   ],
   "source": [
    "result = evaluate(obs, \"Observation.category.coding.code\", [])\n",
    "print(result)"
   ]
  },
  {
   "cell_type": "code",
   "execution_count": 57,
   "metadata": {},
   "outputs": [
    {
     "name": "stdout",
     "output_type": "stream",
     "text": [
      "['120/80']\n"
     ]
    }
   ],
   "source": [
    "result = evaluate(obs, \"Observation.component.where(code.coding.code = '8480-6').valueQuantity.value.toString() + '/' + Observation.component.where(code.coding.code = '8462-4').valueQuantity.value.toString()\", [])\n",
    "print(result)"
   ]
  },
  {
   "cell_type": "code",
   "execution_count": 58,
   "metadata": {},
   "outputs": [],
   "source": [
    "bundle = {\n",
    "  \"resourceType\": \"Bundle\",\n",
    "  \"id\": \"bundle-example\",\n",
    "  \"type\": \"collection\",\n",
    "  \"entry\": [\n",
    "    {\n",
    "      \"resource\": {\n",
    "        \"resourceType\": \"Observation\",\n",
    "        \"id\": \"obs1\",\n",
    "        \"status\": \"final\",\n",
    "        \"code\": {\n",
    "          \"coding\": [\n",
    "            {\n",
    "              \"system\": \"http://loinc.org\",\n",
    "              \"code\": \"85354-9\",\n",
    "              \"display\": \"Blood pressure panel\"\n",
    "            }\n",
    "          ],\n",
    "          \"text\": \"Blood Pressure\"\n",
    "        },\n",
    "        \"subject\": {\n",
    "          \"reference\": \"Patient/123\"\n",
    "        },\n",
    "        \"effectiveDateTime\": \"2025-02-25T10:00:00+00:00\",\n",
    "        \"component\": [\n",
    "          {\n",
    "            \"code\": {\n",
    "              \"coding\": [\n",
    "                {\n",
    "                  \"system\": \"http://loinc.org\",\n",
    "                  \"code\": \"8480-6\",\n",
    "                  \"display\": \"Systolic blood pressure\"\n",
    "                }\n",
    "              ]\n",
    "            },\n",
    "            \"valueQuantity\": {\n",
    "              \"value\": 120,\n",
    "              \"unit\": \"mmHg\"\n",
    "            }\n",
    "          },\n",
    "          {\n",
    "            \"code\": {\n",
    "              \"coding\": [\n",
    "                {\n",
    "                  \"system\": \"http://loinc.org\",\n",
    "                  \"code\": \"8462-4\",\n",
    "                  \"display\": \"Diastolic blood pressure\"\n",
    "                }\n",
    "              ]\n",
    "            },\n",
    "            \"valueQuantity\": {\n",
    "              \"value\": 80,\n",
    "              \"unit\": \"mmHg\"\n",
    "            }\n",
    "          }\n",
    "        ]\n",
    "      }\n",
    "    },\n",
    "    {\n",
    "      \"resource\": {\n",
    "        \"resourceType\": \"Observation\",\n",
    "        \"id\": \"obs2\",\n",
    "        \"status\": \"final\",\n",
    "        \"code\": {\n",
    "          \"coding\": [\n",
    "            {\n",
    "              \"system\": \"http://loinc.org\",\n",
    "              \"code\": \"8867-4\",\n",
    "              \"display\": \"Heart rate\"\n",
    "            }\n",
    "          ],\n",
    "          \"text\": \"Heart Rate\"\n",
    "        },\n",
    "        \"subject\": {\n",
    "          \"reference\": \"Patient/123\"\n",
    "        },\n",
    "        \"effectiveDateTime\": \"2025-02-25T10:05:00+00:00\",\n",
    "        \"valueQuantity\": {\n",
    "          \"value\": 72,\n",
    "          \"unit\": \"beats/minute\"\n",
    "        }\n",
    "      }\n",
    "    }\n",
    "  ]\n",
    "}\n"
   ]
  },
  {
   "cell_type": "markdown",
   "metadata": {},
   "source": [
    "Extract the status of all observations"
   ]
  },
  {
   "cell_type": "code",
   "execution_count": 59,
   "metadata": {},
   "outputs": [
    {
     "name": "stdout",
     "output_type": "stream",
     "text": [
      "['final', 'final']\n"
     ]
    }
   ],
   "source": [
    "result = evaluate(bundle, \"Bundle.entry.resource.status\", [])\n",
    "print(result)"
   ]
  },
  {
   "cell_type": "code",
   "execution_count": 60,
   "metadata": {},
   "outputs": [
    {
     "name": "stdout",
     "output_type": "stream",
     "text": [
      "['final', 'final']\n"
     ]
    }
   ],
   "source": [
    "result = evaluate(bundle, \"entry.resource.status\", [])\n",
    "print(result)"
   ]
  },
  {
   "cell_type": "markdown",
   "metadata": {},
   "source": [
    "Get the IDs of observations with a code text equal to 'Blood Pressure'"
   ]
  },
  {
   "cell_type": "code",
   "execution_count": 61,
   "metadata": {},
   "outputs": [
    {
     "name": "stdout",
     "output_type": "stream",
     "text": [
      "['obs1']\n"
     ]
    }
   ],
   "source": [
    "result = evaluate(bundle, \"Bundle.entry.resource.where(code.text = 'Blood Pressure').id\", [])\n",
    "print(result)"
   ]
  },
  {
   "cell_type": "markdown",
   "metadata": {},
   "source": [
    "Retrieve the systolic blood pressure value (from the component with code '8480-6')"
   ]
  },
  {
   "cell_type": "code",
   "execution_count": 62,
   "metadata": {},
   "outputs": [
    {
     "name": "stdout",
     "output_type": "stream",
     "text": [
      "[120]\n"
     ]
    }
   ],
   "source": [
    "result = evaluate(bundle, \"Bundle.entry.resource.where(component.exists()).component.where(code.coding.code = '8480-6').valueQuantity.value\", [])\n",
    "print(result)"
   ]
  },
  {
   "cell_type": "markdown",
   "metadata": {},
   "source": [
    "Retrieve the diastolic blood pressure value (from the component with code '8462-4')"
   ]
  },
  {
   "cell_type": "code",
   "execution_count": 63,
   "metadata": {},
   "outputs": [
    {
     "name": "stdout",
     "output_type": "stream",
     "text": [
      "[80]\n"
     ]
    }
   ],
   "source": [
    "result = evaluate(bundle, \"Bundle.entry.resource.where(component.exists()).component.where(code.coding.code = '8462-4').valueQuantity.value\", [])\n",
    "print(result)"
   ]
  },
  {
   "cell_type": "code",
   "execution_count": 64,
   "metadata": {},
   "outputs": [
    {
     "name": "stdout",
     "output_type": "stream",
     "text": [
      "[{'resourceType': 'Observation', 'id': 'obs1', 'status': 'final', 'code': {'coding': [{'system': 'http://loinc.org', 'code': '85354-9', 'display': 'Blood pressure panel'}], 'text': 'Blood Pressure'}, 'subject': {'reference': 'Patient/123'}, 'effectiveDateTime': '2025-02-25T10:00:00+00:00', 'component': [{'code': {'coding': [{'system': 'http://loinc.org', 'code': '8480-6', 'display': 'Systolic blood pressure'}]}, 'valueQuantity': {'value': 120, 'unit': 'mmHg'}}, {'code': {'coding': [{'system': 'http://loinc.org', 'code': '8462-4', 'display': 'Diastolic blood pressure'}]}, 'valueQuantity': {'value': 80, 'unit': 'mmHg'}}]}, {'resourceType': 'Observation', 'id': 'obs2', 'status': 'final', 'code': {'coding': [{'system': 'http://loinc.org', 'code': '8867-4', 'display': 'Heart rate'}], 'text': 'Heart Rate'}, 'subject': {'reference': 'Patient/123'}, 'effectiveDateTime': '2025-02-25T10:05:00+00:00', 'valueQuantity': {'value': 72, 'unit': 'beats/minute'}}]\n"
     ]
    }
   ],
   "source": [
    "result = evaluate(bundle, \"Bundle.entry.resource.ofType(Observation)\", [])\n",
    "print(result)"
   ]
  },
  {
   "cell_type": "markdown",
   "metadata": {},
   "source": [
    "Extract the heart rate value (observation with code '8867-4')"
   ]
  },
  {
   "cell_type": "code",
   "execution_count": 91,
   "metadata": {},
   "outputs": [
    {
     "name": "stdout",
     "output_type": "stream",
     "text": [
      "[72]\n"
     ]
    }
   ],
   "source": [
    "result = evaluate(bundle, \"Bundle.entry.resource.where(code.coding.code = '8867-4').valueQuantity.value\", [])\n",
    "print(result)"
   ]
  },
  {
   "cell_type": "code",
   "execution_count": 103,
   "metadata": {},
   "outputs": [
    {
     "name": "stdout",
     "output_type": "stream",
     "text": [
      "[{'resourceType': 'Observation', 'id': 'obs1', 'status': 'final', 'code': {'coding': [{'system': 'http://loinc.org', 'code': '85354-9', 'display': 'Blood pressure panel'}], 'text': 'Blood Pressure'}, 'subject': {'reference': 'Patient/123'}, 'effectiveDateTime': '2025-02-25T10:00:00+00:00', 'component': [{'code': {'coding': [{'system': 'http://loinc.org', 'code': '8480-6', 'display': 'Systolic blood pressure'}]}, 'valueQuantity': {'value': 120, 'unit': 'mmHg'}}, {'code': {'coding': [{'system': 'http://loinc.org', 'code': '8462-4', 'display': 'Diastolic blood pressure'}]}, 'valueQuantity': {'value': 80, 'unit': 'mmHg'}}]}]\n"
     ]
    }
   ],
   "source": [
    "result = evaluate(bundle, \"entry.resource.where(resourceType = 'Observation').where(component.valueQuantity.value.exists($this > 100))\", [])\n",
    "print(result)"
   ]
  },
  {
   "cell_type": "markdown",
   "metadata": {},
   "source": [
    "Must select the component we want"
   ]
  },
  {
   "cell_type": "code",
   "execution_count": 107,
   "metadata": {},
   "outputs": [
    {
     "name": "stdout",
     "output_type": "stream",
     "text": [
      "[{'code': {'coding': [{'system': 'http://loinc.org', 'code': '8480-6', 'display': 'Systolic blood pressure'}]}, 'valueQuantity': {'value': 120, 'unit': 'mmHg'}}]\n"
     ]
    }
   ],
   "source": [
    "result = evaluate(bundle, \"entry.resource.where(resourceType = 'Observation').where(component.valueQuantity.value.exists($this > 100)).select(component.where(valueQuantity.value > 100))\", [])\n",
    "print(result)"
   ]
  },
  {
   "cell_type": "code",
   "execution_count": 108,
   "metadata": {},
   "outputs": [
    {
     "name": "stdout",
     "output_type": "stream",
     "text": [
      "[120]\n"
     ]
    }
   ],
   "source": [
    "result = evaluate(bundle, \"entry.resource.component.valueQuantity.value.where($this > 100)\", [])\n",
    "print(result)"
   ]
  },
  {
   "cell_type": "markdown",
   "metadata": {},
   "source": [
    "Are all the component blood pressure values greater than or equal to 80?"
   ]
  },
  {
   "cell_type": "code",
   "execution_count": 109,
   "metadata": {},
   "outputs": [
    {
     "name": "stdout",
     "output_type": "stream",
     "text": [
      "[{'resourceType': 'Observation', 'id': 'obs1', 'status': 'final', 'code': {'coding': [{'system': 'http://loinc.org', 'code': '85354-9', 'display': 'Blood pressure panel'}], 'text': 'Blood Pressure'}, 'subject': {'reference': 'Patient/123'}, 'effectiveDateTime': '2025-02-25T10:00:00+00:00', 'component': [{'code': {'coding': [{'system': 'http://loinc.org', 'code': '8480-6', 'display': 'Systolic blood pressure'}]}, 'valueQuantity': {'value': 120, 'unit': 'mmHg'}}, {'code': {'coding': [{'system': 'http://loinc.org', 'code': '8462-4', 'display': 'Diastolic blood pressure'}]}, 'valueQuantity': {'value': 80, 'unit': 'mmHg'}}]}]\n"
     ]
    }
   ],
   "source": [
    "result = evaluate(bundle, \"entry.resource.where(resourceType = 'Observation').where(component.exists() and (component.valueQuantity.value.all(($this >= 80))\", [])\n",
    "print(result)"
   ]
  },
  {
   "cell_type": "markdown",
   "metadata": {},
   "source": [
    "Get all effective date and time values from the observations"
   ]
  },
  {
   "cell_type": "code",
   "execution_count": 110,
   "metadata": {},
   "outputs": [
    {
     "name": "stdout",
     "output_type": "stream",
     "text": [
      "['2025-02-25T10:00:00+00:00', '2025-02-25T10:05:00+00:00']\n"
     ]
    }
   ],
   "source": [
    "result = evaluate(bundle, \"Bundle.entry.resource.effectiveDateTime\", [])\n",
    "print(result)"
   ]
  },
  {
   "cell_type": "markdown",
   "metadata": {},
   "source": [
    "Return the subject reference (patient identifier) for all observations"
   ]
  },
  {
   "cell_type": "code",
   "execution_count": 112,
   "metadata": {},
   "outputs": [
    {
     "name": "stdout",
     "output_type": "stream",
     "text": [
      "['Patient/123']\n"
     ]
    }
   ],
   "source": [
    "result = evaluate(bundle, \"Bundle.entry.resource.subject.reference.distinct()\", [])\n",
    "print(result)"
   ]
  },
  {
   "cell_type": "markdown",
   "metadata": {},
   "source": [
    "Retrieve the unit for the systolic measurement"
   ]
  },
  {
   "cell_type": "code",
   "execution_count": 113,
   "metadata": {},
   "outputs": [
    {
     "name": "stdout",
     "output_type": "stream",
     "text": [
      "['mmHg']\n"
     ]
    }
   ],
   "source": [
    "result = evaluate(bundle, \"Bundle.entry.resource.where(component.exists()).component.where(code.coding.code = '8480-6').valueQuantity.unit\", [])\n",
    "print(result)"
   ]
  },
  {
   "cell_type": "markdown",
   "metadata": {},
   "source": [
    "Count the number of Observation resources in the bundle"
   ]
  },
  {
   "cell_type": "code",
   "execution_count": 114,
   "metadata": {},
   "outputs": [
    {
     "name": "stdout",
     "output_type": "stream",
     "text": [
      "[2]\n"
     ]
    }
   ],
   "source": [
    "result = evaluate(bundle, \"Bundle.entry.resource.count()\", [])\n",
    "print(result)"
   ]
  },
  {
   "cell_type": "markdown",
   "metadata": {},
   "source": [
    "Concatenate the first observation’s ID with its effective date/time "
   ]
  },
  {
   "cell_type": "code",
   "execution_count": 115,
   "metadata": {},
   "outputs": [
    {
     "name": "stdout",
     "output_type": "stream",
     "text": [
      "['obs1 2025-02-25T10:00:00+00:00']\n"
     ]
    }
   ],
   "source": [
    "result = evaluate(bundle, \"Bundle.entry.resource.id.first() + ' ' + entry.resource.effectiveDateTime.first()\", [])\n",
    "print(result)"
   ]
  },
  {
   "cell_type": "markdown",
   "metadata": {},
   "source": [
    "# Make the GET request to retrieve the bundle of Patients"
   ]
  },
  {
   "cell_type": "code",
   "execution_count": 116,
   "metadata": {},
   "outputs": [],
   "source": [
    "import requests\n",
    "from requests.auth import HTTPBasicAuth"
   ]
  },
  {
   "cell_type": "markdown",
   "metadata": {},
   "source": [
    "# Define the URL and headers for the GET request"
   ]
  },
  {
   "cell_type": "code",
   "execution_count": 117,
   "metadata": {},
   "outputs": [],
   "source": [
    "url = \"http://127.0.0.1:8080/csp/healthshare/demo/fhir/r4/Patient\"\n",
    "headers = {\n",
    "    \"Accept\": \"*/*\",\n",
    "    \"content-type\": \"application/fhir+json\",\n",
    "    \"Accept-Encoding\": \"gzip, deflate, br\",\n",
    "    \"Prefer\": \"return=representation\"\n",
    "}\n"
   ]
  },
  {
   "cell_type": "code",
   "execution_count": 118,
   "metadata": {},
   "outputs": [
    {
     "name": "stdout",
     "output_type": "stream",
     "text": [
      "Bundle retrieved successfully!\n",
      "Total Patients: 126\n",
      "First Patient ID: 2\n"
     ]
    }
   ],
   "source": [
    "response = requests.get(url, headers=headers, auth=HTTPBasicAuth('_System', 'ISCDEMO'))\n",
    "\n",
    "# Check if the request was successful\n",
    "if response.status_code == 200:\n",
    "    bundle = response.json()\n",
    "    print(\"Bundle retrieved successfully!\")\n",
    "    print(f\"Total Patients: {len(bundle.get('entry', []))}\")\n",
    "    \n",
    "    # You can now use FHIRPath or further analyze the bundle as needed.\n",
    "    # For example, print out the first patient's ID:\n",
    "    if bundle.get('entry'):\n",
    "        first_patient = bundle['entry'][0]['resource']\n",
    "        print(\"First Patient ID:\", first_patient.get('id'))\n",
    "else:\n",
    "    print(\"Error retrieving bundle:\", response.status_code)\n",
    "    print(response.text)"
   ]
  },
  {
   "cell_type": "markdown",
   "metadata": {},
   "source": [
    "Let's find the id of each patient resource in the bundle we just obtained."
   ]
  },
  {
   "cell_type": "code",
   "execution_count": 119,
   "metadata": {},
   "outputs": [
    {
     "name": "stdout",
     "output_type": "stream",
     "text": [
      "['2', '3', '6', '1', '4', '5', '7', '8', '9', '641', '1883', '1752', '2244', '2015', '2401', '3967', '5959', '4976', '4347', '4606', '5587', '6883', '6055', '11092', '10552', '12444', '12260', '13257', '14976', '14522', '16887', '17268', '17674', '17427', '17111', '19317', '19948', '19710', '19539', '21629', '19582', '22341', '24850', '23520', '23300', '24767', '22806', '24453', '26343', '26135', '25927', '25616', '27137', '28643', '30037', '28864', '31200', '28587', '30530', '32203', '31979', '34144', '32324', '34747', '34268', '34613', '36115', '37324', '38105', '38528', '38855', '37712', '39419', '39752', '37011', '40810', '41691', '40360', '42737', '45278', '42979', '43830', '46599', '46375', '46996', '47813', '48554', '50033', '50604', '48461', '51476', '49070', '52327', '52036', '50806', '51042', '52967', '54047', '52118', '53416', '54424', '55664', '56025', '58130', '57935', '57369', '57085', '58539', '59584', '58268', '57728', '58961', '59969', '61759', '64235', '70082', '70083', '70084', '70085', '70086', '70087', '70088', '70089', '70090', 'cfsb1739559272445', '70093']\n"
     ]
    }
   ],
   "source": [
    "result = evaluate(bundle, \"Bundle.entry.resource.id\", [])\n",
    "print(result)\n"
   ]
  },
  {
   "cell_type": "markdown",
   "metadata": {},
   "source": [
    "Find all the female patients in the FHIR repository"
   ]
  },
  {
   "cell_type": "code",
   "execution_count": 123,
   "metadata": {},
   "outputs": [
    {
     "name": "stdout",
     "output_type": "stream",
     "text": [
      "[63]\n"
     ]
    }
   ],
   "source": [
    "result = evaluate(bundle, \"Bundle.entry.resource.where(gender = 'female').count()\", [])\n",
    "print(result)"
   ]
  },
  {
   "cell_type": "code",
   "execution_count": 124,
   "metadata": {},
   "outputs": [],
   "source": [
    "url = \"http://127.0.0.1:8080/csp/healthshare/demo/fhir/r4/Condition?subject=Patient/2\"\n",
    "headers = {\n",
    "    \"Accept\": \"*/*\",\n",
    "    \"content-type\": \"application/fhir+json\",\n",
    "    \"Accept-Encoding\": \"gzip, deflate, br\",\n",
    "    \"Prefer\": \"return=representation\"\n",
    "}"
   ]
  },
  {
   "cell_type": "code",
   "execution_count": 125,
   "metadata": {},
   "outputs": [
    {
     "name": "stdout",
     "output_type": "stream",
     "text": [
      "Bundle retrieved successfully!\n",
      "Patient two has [2] active conditions and [8] resolved conditions.\n"
     ]
    }
   ],
   "source": [
    "response = requests.get(url, headers=headers, auth=HTTPBasicAuth('_System', 'ISCDEMO'))\n",
    "\n",
    "# Check if the request was successful\n",
    "if response.status_code == 200:\n",
    "    bundle = response.json()\n",
    "    print(\"Bundle retrieved successfully!\")\n",
    "    # Define the FHIRPath expression:\n",
    "    # This expression filters Bundle entries for Condition resources where at least one coding in clinicalStatus has code 'active'\n",
    "    expression1 = (\n",
    "        \"Bundle.entry.where(resource.resourceType = 'Condition' and \"\n",
    "        \"resource.clinicalStatus.coding.where(code = 'active').exists()).count()\"\n",
    "    )\n",
    "    \n",
    "    expression2 = (\n",
    "        \"Bundle.entry.where(resource.resourceType = 'Condition' and \"\n",
    "        \"resource.clinicalStatus.coding.where(code = 'resolved').exists()).count()\"\n",
    "    )\n",
    "    \n",
    "    # Evaluate the FHIRPath expression on the bundle\n",
    "    active_count = evaluate(bundle, expression1, [])\n",
    "    resolved_count = evaluate(bundle, expression2, [])\n",
    "    print(f\"Patient two has {active_count} active conditions and {resolved_count} resolved conditions.\")\n",
    "else:\n",
    "    print(\"Failed to retrieve bundle\")"
   ]
  },
  {
   "cell_type": "markdown",
   "metadata": {},
   "source": [
    "Problems with Types"
   ]
  },
  {
   "cell_type": "code",
   "execution_count": 129,
   "metadata": {},
   "outputs": [],
   "source": [
    "ptdec = {\n",
    "  \"resourceType\": \"Patient\",\n",
    "  \"id\": \"fake-patient-example\",\n",
    "  \"name\": [\n",
    "    {\n",
    "      \"use\": \"official\",\n",
    "      \"family\": \"Doe\",\n",
    "      \"given\": [\"Jane\", \"Elizabeth\"]\n",
    "    }\n",
    "  ],\n",
    "  \"address\": [\n",
    "    {\n",
    "      \"use\": \"home\",\n",
    "      \"line\": [\"1234 Main Street\"],\n",
    "      \"city\": \"Exampleville\",\n",
    "      \"state\": \"CA\",\n",
    "      \"postalCode\": \"90001\",\n",
    "      \"country\": \"USA\"\n",
    "    }\n",
    "  ],\n",
    "  \"deceasedBoolean\" : \"true\",\n",
    "  \"birthDate\": \"1980-01-15\"\n",
    "}"
   ]
  },
  {
   "cell_type": "code",
   "execution_count": 133,
   "metadata": {},
   "outputs": [
    {
     "name": "stdout",
     "output_type": "stream",
     "text": [
      "[{'name': 'Boolean', 'namespace': 'System'}]\n"
     ]
    }
   ],
   "source": [
    "result = evaluate(ptdec, \"deceased.exists().select($this.type())\", [])\n",
    "print(result)"
   ]
  },
  {
   "cell_type": "code",
   "execution_count": 134,
   "metadata": {},
   "outputs": [
    {
     "name": "stdout",
     "output_type": "stream",
     "text": [
      "[True]\n"
     ]
    }
   ],
   "source": [
    "result = evaluate(ptdec, \"deceasedBoolean.exists()\", [])\n",
    "print(result)"
   ]
  },
  {
   "cell_type": "code",
   "execution_count": 135,
   "metadata": {},
   "outputs": [
    {
     "name": "stdout",
     "output_type": "stream",
     "text": [
      "[False]\n"
     ]
    }
   ],
   "source": [
    "result = evaluate(ptdec, \"deceasedDateTime.exists()\", [])\n",
    "print(result)"
   ]
  }
 ],
 "metadata": {
  "kernelspec": {
   "display_name": "3.12.7",
   "language": "python",
   "name": "python3"
  },
  "language_info": {
   "codemirror_mode": {
    "name": "ipython",
    "version": 3
   },
   "file_extension": ".py",
   "mimetype": "text/x-python",
   "name": "python",
   "nbconvert_exporter": "python",
   "pygments_lexer": "ipython3",
   "version": "3.12.7"
  }
 },
 "nbformat": 4,
 "nbformat_minor": 2
}
