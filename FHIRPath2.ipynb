{
 "cells": [
  {
   "cell_type": "code",
   "execution_count": 1,
   "metadata": {},
   "outputs": [
    {
     "name": "stdout",
     "output_type": "stream",
     "text": [
      "Requirement already satisfied: fhirpathpy in /Users/pjamieso/.pyenv/versions/3.12.7/lib/python3.12/site-packages (1.2.1)\n",
      "Requirement already satisfied: antlr4-python3-runtime~=4.10 in /Users/pjamieso/.pyenv/versions/3.12.7/lib/python3.12/site-packages (from fhirpathpy) (4.13.2)\n",
      "Requirement already satisfied: python-dateutil~=2.8 in /Users/pjamieso/.pyenv/versions/3.12.7/lib/python3.12/site-packages (from fhirpathpy) (2.9.0.post0)\n",
      "Requirement already satisfied: six>=1.5 in /Users/pjamieso/.pyenv/versions/3.12.7/lib/python3.12/site-packages (from python-dateutil~=2.8->fhirpathpy) (1.17.0)\n",
      "\n",
      "\u001b[1m[\u001b[0m\u001b[34;49mnotice\u001b[0m\u001b[1;39;49m]\u001b[0m\u001b[39;49m A new release of pip is available: \u001b[0m\u001b[31;49m24.2\u001b[0m\u001b[39;49m -> \u001b[0m\u001b[32;49m25.0.1\u001b[0m\n",
      "\u001b[1m[\u001b[0m\u001b[34;49mnotice\u001b[0m\u001b[1;39;49m]\u001b[0m\u001b[39;49m To update, run: \u001b[0m\u001b[32;49mpip install --upgrade pip\u001b[0m\n",
      "Requirement already satisfied: requests in /Users/pjamieso/.pyenv/versions/3.12.7/lib/python3.12/site-packages (2.32.3)\n",
      "Requirement already satisfied: charset-normalizer<4,>=2 in /Users/pjamieso/.pyenv/versions/3.12.7/lib/python3.12/site-packages (from requests) (3.4.1)\n",
      "Requirement already satisfied: idna<4,>=2.5 in /Users/pjamieso/.pyenv/versions/3.12.7/lib/python3.12/site-packages (from requests) (3.10)\n",
      "Requirement already satisfied: urllib3<3,>=1.21.1 in /Users/pjamieso/.pyenv/versions/3.12.7/lib/python3.12/site-packages (from requests) (2.3.0)\n",
      "Requirement already satisfied: certifi>=2017.4.17 in /Users/pjamieso/.pyenv/versions/3.12.7/lib/python3.12/site-packages (from requests) (2025.1.31)\n",
      "\n",
      "\u001b[1m[\u001b[0m\u001b[34;49mnotice\u001b[0m\u001b[1;39;49m]\u001b[0m\u001b[39;49m A new release of pip is available: \u001b[0m\u001b[31;49m24.2\u001b[0m\u001b[39;49m -> \u001b[0m\u001b[32;49m25.0.1\u001b[0m\n",
      "\u001b[1m[\u001b[0m\u001b[34;49mnotice\u001b[0m\u001b[1;39;49m]\u001b[0m\u001b[39;49m To update, run: \u001b[0m\u001b[32;49mpip install --upgrade pip\u001b[0m\n"
     ]
    }
   ],
   "source": [
    "!pip install fhirpathpy\n",
    "!pip install requests"
   ]
  },
  {
   "cell_type": "code",
   "execution_count": 4,
   "metadata": {},
   "outputs": [],
   "source": [
    "from fhirpathpy import evaluate"
   ]
  },
  {
   "cell_type": "markdown",
   "metadata": {},
   "source": [
    " Notice there's no value[x] for Systolic blood pressure."
   ]
  },
  {
   "cell_type": "code",
   "execution_count": 3,
   "metadata": {},
   "outputs": [],
   "source": [
    "obs = {\n",
    "  \"resourceType\": \"Observation\",\n",
    "  \"id\": \"example-missing\",\n",
    "  \"status\": \"final\",\n",
    "  \"code\": {\n",
    "    \"text\": \"Blood Pressure\"\n",
    "  },\n",
    "  \"component\": [\n",
    "    {\n",
    "      \"code\": {\n",
    "        \"text\": \"Systolic blood pressure\"\n",
    "      }\n",
    "    },\n",
    "    {\n",
    "      \"code\": {\n",
    "        \"text\": \"Diastolic blood pressure\"\n",
    "      },\n",
    "      \"valueQuantity\": {\n",
    "        \"value\": 80,\n",
    "        \"unit\": \"mmHg\"\n",
    "      }\n",
    "    }\n",
    "  ]\n",
    "}\n"
   ]
  },
  {
   "cell_type": "code",
   "execution_count": 5,
   "metadata": {},
   "outputs": [
    {
     "name": "stdout",
     "output_type": "stream",
     "text": [
      "[True]\n"
     ]
    }
   ],
   "source": [
    "result = evaluate(obs, \"component.valueQuantity.value > 70\", [])\n",
    "print(result)"
   ]
  },
  {
   "cell_type": "code",
   "execution_count": 10,
   "metadata": {},
   "outputs": [
    {
     "name": "stdout",
     "output_type": "stream",
     "text": [
      "[True]\n"
     ]
    }
   ],
   "source": [
    "result = evaluate(obs, \"component.where(valueQuantity.exists()).valueQuantity.value.where($this > 70).exists()\", [])\n",
    "print(result)"
   ]
  },
  {
   "cell_type": "code",
   "execution_count": 8,
   "metadata": {},
   "outputs": [
    {
     "name": "stdout",
     "output_type": "stream",
     "text": [
      "[]\n"
     ]
    }
   ],
   "source": [
    "result = evaluate(obs, \"component.where(code.text = 'Systolic blood pressure').valueQuantity.value > 120\", [])\n",
    "print(result)"
   ]
  },
  {
   "cell_type": "markdown",
   "metadata": {},
   "source": [
    "Notice the correct “FHIRPath logic” is to chain two .where(...) calls (or a single .where() with a combined condition) on the component collection, rather than calling .exists() mid-chain."
   ]
  },
  {
   "cell_type": "code",
   "execution_count": 16,
   "metadata": {},
   "outputs": [
    {
     "name": "stdout",
     "output_type": "stream",
     "text": [
      "[]\n"
     ]
    }
   ],
   "source": [
    "result = evaluate(obs, \"component.where(code.text = 'Systolic blood pressure').where(valueQuantity.exists())\", [])\n",
    "print(result)"
   ]
  },
  {
   "cell_type": "markdown",
   "metadata": {},
   "source": [
    "Debugging Tips\n",
    "Check the Raw Data: Print or inspect the obs structure in your notebook to confirm the spelling of component and the actual numeric values.\n",
    "Test Intermediate Steps:\n",
    "component.valueQuantity.value"
   ]
  },
  {
   "cell_type": "code",
   "execution_count": 11,
   "metadata": {},
   "outputs": [
    {
     "name": "stdout",
     "output_type": "stream",
     "text": [
      "[80]\n"
     ]
    }
   ],
   "source": [
    "result = evaluate(obs, \"component.valueQuantity.value\", [])\n",
    "print(result)"
   ]
  },
  {
   "cell_type": "markdown",
   "metadata": {},
   "source": [
    "Below is an example FHIR Observation where two component entries use different data types for value[x]: one uses valueQuantity, and the other uses valueCodeableConcept. This mix can cause type mismatches if you try to perform numeric operations on the entire collection without first filtering for numeric types.\n",
    "\n"
   ]
  },
  {
   "cell_type": "markdown",
   "metadata": {},
   "source": [
    "obs2 = {\n",
    "  \"resourceType\": \"Observation\",\n",
    "  \"id\": \"mixed-type-example\",\n",
    "  \"status\": \"final\",\n",
    "  \"code\": {\n",
    "    \"coding\": [\n",
    "      {\n",
    "        \"system\": \"http://loinc.org\",\n",
    "        \"code\": \"85354-9\",\n",
    "        \"display\": \"Blood pressure panel\"\n",
    "      }\n",
    "    ],\n",
    "    \"text\": \"Blood Pressure\"\n",
    "  },\n",
    "  \"component\": [\n",
    "    {\n",
    "      \"code\": {\n",
    "        \"coding\": [\n",
    "          {\n",
    "            \"system\": \"http://loinc.org\",\n",
    "            \"code\": \"8480-6\",\n",
    "            \"display\": \"Systolic blood pressure\"\n",
    "          }\n",
    "        ]\n",
    "      },\n",
    "      \"valueQuantity\": {\n",
    "        \"value\": 120,\n",
    "        \"unit\": \"mmHg\"\n",
    "      }\n",
    "    },\n",
    "    {\n",
    "      \"code\": {\n",
    "        \"coding\": [\n",
    "          {\n",
    "            \"system\": \"http://snomed.info/sct\",\n",
    "            \"code\": \"373067005\",\n",
    "            \"display\": \"Diagnosis of Hypertension\"\n",
    "          }\n",
    "        ],\n",
    "        \"text\": \"Diagnostic Reason\"\n",
    "      },\n",
    "      \"valueCodeableConcept\": {\n",
    "        \"coding\": [\n",
    "          {\n",
    "            \"system\": \"http://snomed.info/sct\",\n",
    "            \"code\": \"38341003\",\n",
    "            \"display\": \"Hypertension\"\n",
    "          }\n",
    "        ],\n",
    "        \"text\": \"Hypertensive Disorder\"\n",
    "      }\n",
    "    }\n",
    "  ]\n",
    "}\n"
   ]
  },
  {
   "cell_type": "code",
   "execution_count": 24,
   "metadata": {},
   "outputs": [
    {
     "name": "stdout",
     "output_type": "stream",
     "text": [
      "[False]\n"
     ]
    }
   ],
   "source": [
    "result = evaluate(obs, \"component.valueQuantity.value > 140\", [])\n",
    "print(result)"
   ]
  },
  {
   "cell_type": "code",
   "execution_count": 23,
   "metadata": {},
   "outputs": [
    {
     "name": "stdout",
     "output_type": "stream",
     "text": [
      "[80]\n"
     ]
    }
   ],
   "source": [
    "result = evaluate(obs, \"component.valueQuantity.value\", [])\n",
    "print(result)"
   ]
  },
  {
   "cell_type": "code",
   "execution_count": null,
   "metadata": {},
   "outputs": [],
   "source": [
    "pt = {\n",
    "  \"resourceType\": \"Patient\",\n",
    "  \"id\": \"fake-patient-example\",\n",
    "  \"name\": [\n",
    "    {\n",
    "      \"use\": \"official\",\n",
    "      \"family\": \"Doe\",\n",
    "      \"given\": [\"Jane\", \"Elizabeth\"]\n",
    "    }\n",
    "  ],\n",
    "  \"address\": [\n",
    "    {\n",
    "      \"use\": \"home\",\n",
    "      \"line\": [\"1234 Main Street\"],\n",
    "      \"city\": \"Exampleville\",\n",
    "      \"state\": \"CA\",\n",
    "      \"postalCode\": \"90001\",\n",
    "      \"country\": \"USA\"\n",
    "    }\n",
    "  ],\n",
    "  \"birthDate\": \"1980-01-15\"\n",
    "}\n"
   ]
  }
 ],
 "metadata": {
  "kernelspec": {
   "display_name": "3.12.7",
   "language": "python",
   "name": "python3"
  },
  "language_info": {
   "codemirror_mode": {
    "name": "ipython",
    "version": 3
   },
   "file_extension": ".py",
   "mimetype": "text/x-python",
   "name": "python",
   "nbconvert_exporter": "python",
   "pygments_lexer": "ipython3",
   "version": "3.12.7"
  }
 },
 "nbformat": 4,
 "nbformat_minor": 2
}
